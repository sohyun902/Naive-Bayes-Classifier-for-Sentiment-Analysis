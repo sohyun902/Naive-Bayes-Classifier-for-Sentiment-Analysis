{
 "cells": [
  {
   "cell_type": "markdown",
   "metadata": {},
   "source": [
    "Import libraries"
   ]
  },
  {
   "cell_type": "code",
   "execution_count": 6,
   "metadata": {},
   "outputs": [],
   "source": [
    "import csv\n",
    "import copy\n",
    "import seaborn as sns\n",
    "import numpy as np\n",
    "import matplotlib.pyplot as plt \n",
    "from NaiveBayesClassifier import NaiveBayesClassifier"
   ]
  },
  {
   "cell_type": "markdown",
   "metadata": {},
   "source": [
    "Data loading"
   ]
  },
  {
   "cell_type": "code",
   "execution_count": 7,
   "metadata": {},
   "outputs": [],
   "source": [
    "def read_csv(file_path):\n",
    "    data=[]\n",
    "    with open(file_path, 'r', encoding='utf-8') as file:\n",
    "        csv_reader=csv.reader(file)\n",
    "        for row in csv_reader:\n",
    "            data.append(row)\n",
    "    return data\n",
    "\n",
    "def encoding(data):\n",
    "    for i in range(1, len(data)):\n",
    "        if data[i][0]==\"5\":\n",
    "            data[i][0]=1\n",
    "        else:\n",
    "            data[i][0]=0\n",
    "    return data\n",
    "\n",
    "# Changinng csv paths is recommended.\n",
    "train_data=read_csv(\"train.csv\")\n",
    "test_data=read_csv(\"test.csv\")\n",
    "\n",
    "train_data=encoding(train_data)\n",
    "test_data=encoding(test_data)"
   ]
  },
  {
   "cell_type": "code",
   "execution_count": 8,
   "metadata": {},
   "outputs": [],
   "source": [
    "file=open(\"stopwords.txt\", \"r\")\n",
    "stopwords=file.read()\n",
    "stopwords=stopwords.split(\"\\n\")"
   ]
  },
  {
   "cell_type": "markdown",
   "metadata": {},
   "source": [
    "Training"
   ]
  },
  {
   "cell_type": "code",
   "execution_count": 9,
   "metadata": {},
   "outputs": [
    {
     "name": "stdout",
     "output_type": "stream",
     "text": [
      "Top 20-50 words from the selected features: ['well', 'order', 'told', 'didn', 'going', 'first', 'am', 'love', 'down', 'staff', 'minutes', 'ordered', 'now', 'way', 'day', 'chicken', 'restaurant', 'came', '2', 'nice', 'car', 'take', 'still', 'see', 'asked', 'little', 'store', 'made', 'try', 'want', 'experience']\n"
     ]
    }
   ],
   "source": [
    "nbc=NaiveBayesClassifier()\n",
    "train_features=nbc.fit(train_data, stopwords)\n",
    "\n",
    "print(\"Top 20-50 words from the selected features:\", train_features[19:50])"
   ]
  },
  {
   "cell_type": "code",
   "execution_count": 11,
   "metadata": {},
   "outputs": [],
   "source": [
    "pred=nbc.predict(test_data)"
   ]
  },
  {
   "cell_type": "code",
   "execution_count": 12,
   "metadata": {},
   "outputs": [],
   "source": [
    "answer=[]\n",
    "for i in range(1, len(test_data)):\n",
    "    answer.append(int(test_data[i][0]))"
   ]
  },
  {
   "cell_type": "markdown",
   "metadata": {},
   "source": [
    "Evalutaion"
   ]
  },
  {
   "cell_type": "code",
   "execution_count": 13,
   "metadata": {},
   "outputs": [],
   "source": [
    "def confusion_matrix(pred, answer):\n",
    "    TP=0\n",
    "    TN=0\n",
    "    FP=0\n",
    "    FN=0\n",
    "\n",
    "    for i in range(len(answer)):\n",
    "        if answer[i]==pred[i]:\n",
    "            if answer[i]==1:\n",
    "                TP=TP+1\n",
    "            else:\n",
    "                TN=TN+1\n",
    "        if answer[i]!=pred[i]:\n",
    "            if answer[i]==0:\n",
    "                FN=FN+1\n",
    "            else:\n",
    "                FP=FP+1\n",
    "    return [[TN, FP],\n",
    "            [FN, TP]]\n",
    "\n",
    "\n",
    "def eval(pred, answer):\n",
    "    TP=0\n",
    "    TN=0\n",
    "    FP=0\n",
    "    FN=0\n",
    "\n",
    "    for i in range(len(pred)):\n",
    "        if answer[i]==pred[i]:\n",
    "            if answer[i]==1:\n",
    "                TP=TP+1\n",
    "            else:\n",
    "                TN=TN+1\n",
    "        if answer[i]!=pred[i]:\n",
    "            if answer[i]==0:\n",
    "                FN=FN+1\n",
    "            else:\n",
    "                FP=FP+1\n",
    "\n",
    "    accuracy=(TP+TN)/(TP+TN+FP+FN)\n",
    "    precision=TP/(TP+FP)\n",
    "    recall=TP/(TP+FN)\n",
    "    f1_score=2*(precision*recall)/(precision+recall)\n",
    "\n",
    "    return accuracy, precision, recall, f1_score"
   ]
  },
  {
   "cell_type": "code",
   "execution_count": 14,
   "metadata": {},
   "outputs": [
    {
     "data": {
      "text/plain": [
       "<Axes: >"
      ]
     },
     "execution_count": 14,
     "metadata": {},
     "output_type": "execute_result"
    },
    {
     "data": {
      "image/png": "[encoded data removed]",
      "text/plain": [
       "<Figure size 640x480 with 2 Axes>"
      ]
     },
     "metadata": {},
     "output_type": "display_data"
    }
   ],
   "source": [
    "cf_matrix=confusion_matrix(pred, answer)\n",
    "sns.heatmap(cf_matrix, annot=True, cmap=\"Blues\")"
   ]
  },
  {
   "cell_type": "code",
   "execution_count": 15,
   "metadata": {},
   "outputs": [
    {
     "name": "stdout",
     "output_type": "stream",
     "text": [
      "Accuracy: 0.856\n",
      "Precision: 0.8830188679245283\n",
      "Recall: 0.850909090909091\n",
      "F1-score: 0.8666666666666667\n"
     ]
    }
   ],
   "source": [
    "accuracy, precision, recall, f1_score=eval(pred, answer)\n",
    "\n",
    "print(\"Accuracy:\", accuracy)\n",
    "print(\"Precision:\", precision)\n",
    "print(\"Recall:\", recall)\n",
    "print(\"F1-score:\", f1_score)"
   ]
  },
  {
   "cell_type": "markdown",
   "metadata": {},
   "source": [
    "Learning Curve Analysis"
   ]
  },
  {
   "cell_type": "code",
   "execution_count": 16,
   "metadata": {},
   "outputs": [],
   "source": [
    "train_data=read_csv(\"train.csv\")\n",
    "test_data=read_csv(\"test.csv\")\n",
    "\n",
    "train_data=encoding(train_data)\n",
    "test_data=encoding(test_data)"
   ]
  },
  {
   "cell_type": "code",
   "execution_count": 17,
   "metadata": {},
   "outputs": [],
   "source": [
    "train_answer=[]\n",
    "for i in range(1, len(train_data)):\n",
    "    train_answer.append(train_data[i][0])"
   ]
  },
  {
   "cell_type": "code",
   "execution_count": 18,
   "metadata": {},
   "outputs": [],
   "source": [
    "# 10% of train data\n",
    "train_one=train_data[:1+int(len(train_data)*0.1)]\n",
    "\n",
    "# 30% of train data\n",
    "train_two=train_data[:1+int(len(train_data)*0.3)]\n",
    "\n",
    "# 50% of train data\n",
    "train_three=train_data[:1+int(len(train_data)*0.5)]\n",
    "\n",
    "# 70% of train data\n",
    "train_four=train_data[:1+int(len(train_data)*0.7)]"
   ]
  },
  {
   "cell_type": "code",
   "execution_count": 19,
   "metadata": {},
   "outputs": [],
   "source": [
    "nbc=NaiveBayesClassifier()\n",
    "nbc.fit(copy.deepcopy(train_one), stopwords)\n",
    "train_pred_one=nbc.predict(copy.deepcopy(train_one))\n",
    "pred_one=nbc.predict(copy.deepcopy(test_data))\n",
    "\n",
    "nbc=NaiveBayesClassifier()\n",
    "nbc.fit(copy.deepcopy(train_two), stopwords)\n",
    "train_pred_two=nbc.predict(copy.deepcopy(train_two))\n",
    "pred_two=nbc.predict(copy.deepcopy(test_data))\n",
    "\n",
    "nbc=NaiveBayesClassifier()\n",
    "nbc.fit(copy.deepcopy(train_three), stopwords)\n",
    "train_pred_three=nbc.predict(copy.deepcopy(train_three))\n",
    "pred_three=nbc.predict(copy.deepcopy(test_data))\n",
    "\n",
    "nbc=NaiveBayesClassifier()\n",
    "nbc.fit(copy.deepcopy(train_four), stopwords)\n",
    "train_pred_four=nbc.predict(copy.deepcopy(train_four))\n",
    "pred_four=nbc.predict(copy.deepcopy(test_data))\n",
    "\n",
    "nbc=NaiveBayesClassifier()\n",
    "nbc.fit(copy.deepcopy(train_data), stopwords)\n",
    "train_pred_five=nbc.predict(copy.deepcopy(train_data))\n",
    "pred_five=nbc.predict(copy.deepcopy(test_data))"
   ]
  },
  {
   "cell_type": "code",
   "execution_count": 20,
   "metadata": {},
   "outputs": [
    {
     "name": "stdout",
     "output_type": "stream",
     "text": [
      "train: 0.9325 \ttest: 0.768\n",
      "train: 0.885 \ttest: 0.827\n",
      "train: 0.884 \ttest: 0.844\n",
      "train: 0.88 \ttest: 0.853\n",
      "train: 0.8765 \ttest: 0.856\n"
     ]
    }
   ],
   "source": [
    "train_one_accuracy=eval(train_pred_one, train_answer)[0]\n",
    "one_accuracy=eval(pred_one, answer)[0]\n",
    "print(\"train:\", train_one_accuracy, \"\\ttest:\", one_accuracy)\n",
    "\n",
    "train_two_accuracy=eval(train_pred_two, train_answer)[0]\n",
    "two_accuracy=eval(pred_two, answer)[0]\n",
    "print(\"train:\", train_two_accuracy, \"\\ttest:\", two_accuracy)\n",
    "\n",
    "train_three_accuracy=eval(train_pred_three, train_answer)[0]\n",
    "three_accuracy=eval(pred_three, answer)[0]\n",
    "print(\"train:\", train_three_accuracy, \"\\ttest:\", three_accuracy)\n",
    "\n",
    "train_four_accuracy=eval(train_pred_four, train_answer)[0]\n",
    "four_accuracy=eval(pred_four, answer)[0]\n",
    "print(\"train:\", train_four_accuracy, \"\\ttest:\", four_accuracy)\n",
    "\n",
    "train_five_accuracy=eval(train_pred_five, train_answer)[0]\n",
    "five_accuracy=eval(pred, answer)[0]\n",
    "print(\"train:\", train_five_accuracy, \"\\ttest:\", five_accuracy)"
   ]
  },
  {
   "cell_type": "code",
   "execution_count": 21,
   "metadata": {},
   "outputs": [
    {
     "data": {
      "text/plain": [
       "Text(0, 0.5, 'Accuracy')"
      ]
     },
     "execution_count": 21,
     "metadata": {},
     "output_type": "execute_result"
    },
    {
     "data": {
      "image/png": "[encoded data removed]",
      "text/plain": [
       "<Figure size 640x480 with 1 Axes>"
      ]
     },
     "metadata": {},
     "output_type": "display_data"
    }
   ],
   "source": [
    "x=[\"10%\", \"30%\", \"50%\", \"70%\", \"100%\"]\n",
    "y1=[train_one_accuracy, train_two_accuracy, train_three_accuracy, train_four_accuracy, train_five_accuracy]\n",
    "y2=[one_accuracy, two_accuracy, three_accuracy, four_accuracy, five_accuracy]\n",
    "\n",
    "plt.plot(x, y1, 'bo-')\n",
    "plt.plot(x, y2, 'r^-')\n",
    "\n",
    "plt.legend(('Train', 'Test'))\n",
    "plt.ylabel('Accuracy')"
   ]
  }
 ],
 "metadata": {
  "kernelspec": {
   "display_name": "Python 3",
   "language": "python",
   "name": "python3"
  },
  "language_info": {
   "codemirror_mode": {
    "name": "ipython",
    "version": 3
   },
   "file_extension": ".py",
   "mimetype": "text/x-python",
   "name": "python",
   "nbconvert_exporter": "python",
   "pygments_lexer": "ipython3",
   "version": "3.11.2"
  }
 },
 "nbformat": 4,
 "nbformat_minor": 2
}
